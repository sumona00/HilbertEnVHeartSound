{
 "cells": [
  {
   "cell_type": "markdown",
   "metadata": {},
   "source": [
    "https://towardsdatascience.com/hypothesis-testing-in-machine-learning-using-python-a0dc89e169ce\n",
    "https://www.hackdeploy.com/python-t-test-a-friendly-guide/\n",
    "https://docs.scipy.org/doc/scipy-0.17.0/reference/generated/scipy.stats.ttest_rel.html\n",
    "https://www.mathportal.org/calculators/statistics-calculator/t-test-calculator.php (imp)\n",
    "\n",
    "#Python Paired Sample T-Test\n",
    "#method=proposed method(RF)\n",
    "#base=baseline2\n",
    "#base1=baseline1\n",
    "#method1=proposed method (SVM)\n",
    "#method2= envelope"
   ]
  },
  {
   "cell_type": "code",
   "execution_count": 12,
   "metadata": {},
   "outputs": [],
   "source": [
    "import pandas as pd\n",
    "from scipy import stats\n",
    "from statsmodels.stats import weightstats as stests\n",
    "import numpy as np\n",
    "base_c=np.array([96.5,96,95,95,96.5])\n",
    "method_c = np.array([96.5,98,95.5,96,96])\n",
    "method1_c = np.array([98.5,97,98.5,99,98.5])\n",
    "method2_c = np.array([85,93,87,89,83.5])\n",
    "\n",
    "base_15=np.array([82,88,88,84,92])\n",
    "method_15=np.array([88,90,94,86,94])\n",
    "method1_15=np.array([82,84,92,90,98])\n",
    "method2_15=np.array([76,84,86,82,96])\n",
    "\n",
    "base_10=np.array([76,76,76,80,80])\n",
    "method_10=np.array([90,90,88,88,80])\n",
    "method1_10=np.array([86,86,86,80,82])\n",
    "method2_10=np.array([74,86,84,76,96])\n",
    "\n",
    "\n",
    "base_5=np.array([76,72,72,78,84])\n",
    "method_5=np.array([86,72,90,86,82])\n",
    "method1_5=np.array([76,64,78,84,90])\n",
    "method2_5=np.array([80,82,84,74,90])\n",
    "\n",
    "base_0=np.array([66,68,68,82,66])\n",
    "method_0=np.array([72,78,86,82,68])\n",
    "method1_0=np.array([66,78,78,74,74])\n",
    "method2_0=np.array([74,86,86,76,74])\n",
    "\n",
    "base1_c=np.array([66.5,91,79,96.5,73.5])\n",
    "base1_15=np.array([54,64,90,84,84])\n",
    "base1_10=np.array([54,66,88,82,80])\n",
    "base1_5=np.array([50,60,86,80,84])\n",
    "base1_0=np.array([48,58,90,78,70])"
   ]
  },
  {
   "cell_type": "code",
   "execution_count": 14,
   "metadata": {},
   "outputs": [
    {
     "name": "stdout",
     "output_type": "stream",
     "text": [
      "0.23549636025944287\n",
      "-1.3949716649258315\n",
      "accept null hypothesis\n"
     ]
    }
   ],
   "source": [
    "ttest,pval = stats.ttest_rel(base_c, method_c)\n",
    "print(pval)\n",
    "print(ttest)\n",
    "if pval<0.1:\n",
    "    print(\"reject null hypothesis\")\n",
    "else:\n",
    "    print(\"accept null hypothesis\")"
   ]
  },
  {
   "cell_type": "code",
   "execution_count": 4,
   "metadata": {},
   "outputs": [
    {
     "name": "stdout",
     "output_type": "stream",
     "text": [
      "0.07370216591706048\n",
      "-2.408152151993016\n",
      "reject null hypothesis\n"
     ]
    }
   ],
   "source": [
    "ttest,pval = stats.ttest_rel(base1_15, method_15)\n",
    "print(pval)\n",
    "print(ttest)\n",
    "if pval<0.1:\n",
    "    print(\"reject null hypothesis\")\n",
    "else:\n",
    "    print(\"accept null hypothesis\")"
   ]
  },
  {
   "cell_type": "code",
   "execution_count": 5,
   "metadata": {},
   "outputs": [
    {
     "name": "stdout",
     "output_type": "stream",
     "text": [
      "0.14068226486661986\n",
      "-1.8333333333333333\n",
      "accept null hypothesis\n"
     ]
    }
   ],
   "source": [
    "ttest,pval = stats.ttest_rel(base1_10, method_10)\n",
    "print(pval)\n",
    "print(ttest)\n",
    "if pval<0.1:\n",
    "    print(\"reject null hypothesis\")\n",
    "else:\n",
    "    print(\"accept null hypothesis\")"
   ]
  },
  {
   "cell_type": "code",
   "execution_count": 6,
   "metadata": {},
   "outputs": [
    {
     "name": "stdout",
     "output_type": "stream",
     "text": [
      "0.16448751588747468\n",
      "-1.6993119612963323\n",
      "accept null hypothesis\n"
     ]
    }
   ],
   "source": [
    "ttest,pval = stats.ttest_rel(base1_5, method_5)\n",
    "print(pval)\n",
    "print(ttest)\n",
    "if pval<0.1:\n",
    "    print(\"reject null hypothesis\")\n",
    "else:\n",
    "    print(\"accept null hypothesis\")"
   ]
  },
  {
   "cell_type": "code",
   "execution_count": 7,
   "metadata": {},
   "outputs": [
    {
     "name": "stdout",
     "output_type": "stream",
     "text": [
      "0.21726172818427902\n",
      "-1.4631393300123974\n",
      "accept null hypothesis\n"
     ]
    }
   ],
   "source": [
    "#ttest,pval = ttest_ind(base_0, method_0)\n",
    "ttest,pval = stats.ttest_rel(base1_0, method_0)\n",
    "print(pval)\n",
    "print(ttest)\n",
    "if pval<0.1:\n",
    "    print(\"reject null hypothesis\")\n",
    "else:\n",
    "    print(\"accept null hypothesis\")"
   ]
  },
  {
   "cell_type": "code",
   "execution_count": 8,
   "metadata": {},
   "outputs": [
    {
     "name": "stdout",
     "output_type": "stream",
     "text": [
      "0.038499809646344064\n",
      "-3.0374097420239075\n",
      "reject null hypothesis\n",
      "0.04054553267144817\n",
      "-2.9848100289785457\n",
      "reject null hypothesis\n",
      "0.2176154128060866\n",
      "-1.4617633655117153\n",
      "accept null hypothesis\n",
      "0.3086238672026016\n",
      "-1.1653712651667676\n",
      "accept null hypothesis\n",
      "0.4477342745704522\n",
      "-0.8409000955590962\n",
      "accept null hypothesis\n"
     ]
    }
   ],
   "source": [
    "#proposed method SVM\n",
    "ttest,pval = stats.ttest_rel(base1_c, method1_c)\n",
    "print(pval)\n",
    "print(ttest)\n",
    "if pval<0.1:\n",
    "    print(\"reject null hypothesis\")\n",
    "else:\n",
    "    print(\"accept null hypothesis\")\n",
    "\n",
    "ttest,pval = stats.ttest_rel(base1_15, method1_15)\n",
    "print(pval)\n",
    "print(ttest)\n",
    "if pval<0.1:\n",
    "    print(\"reject null hypothesis\")\n",
    "else:\n",
    "    print(\"accept null hypothesis\")\n",
    "    \n",
    "ttest,pval = stats.ttest_rel(base1_10, method1_10)\n",
    "print(pval)\n",
    "print(ttest)\n",
    "if pval<0.1:\n",
    "    print(\"reject null hypothesis\")\n",
    "else:\n",
    "    print(\"accept null hypothesis\")\n",
    "    \n",
    "ttest,pval = stats.ttest_rel(base1_5, method1_5)\n",
    "print(pval)\n",
    "print(ttest)\n",
    "if pval<0.1:\n",
    "    print(\"reject null hypothesis\")\n",
    "else:\n",
    "    print(\"accept null hypothesis\")\n",
    "    \n",
    "ttest,pval = stats.ttest_rel(base1_0, method1_0)\n",
    "print(pval)\n",
    "print(ttest)\n",
    "if pval<0.1:\n",
    "    print(\"reject null hypothesis\")\n",
    "else:\n",
    "    print(\"accept null hypothesis\")"
   ]
  },
  {
   "cell_type": "code",
   "execution_count": 9,
   "metadata": {},
   "outputs": [
    {
     "name": "stdout",
     "output_type": "stream",
     "text": [
      "0.22509846024522254\n",
      "-1.4331669148512345\n",
      "accept null hypothesis\n",
      "0.1511374754621221\n",
      "-1.771712329261349\n",
      "accept null hypothesis\n",
      "0.19099542050056878\n",
      "-1.5722476321567254\n",
      "accept null hypothesis\n",
      "0.22239785766954331\n",
      "-1.4433756729740645\n",
      "accept null hypothesis\n",
      "0.20680478130445795\n",
      "-1.504877608450405\n",
      "accept null hypothesis\n"
     ]
    }
   ],
   "source": [
    "##Envelope\n",
    "ttest,pval = stats.ttest_rel(base1_c, method2_c)\n",
    "print(pval)\n",
    "print(ttest)\n",
    "if pval<0.1:\n",
    "    print(\"reject null hypothesis\")\n",
    "else:\n",
    "    print(\"accept null hypothesis\")\n",
    "\n",
    "ttest,pval = stats.ttest_rel(base1_15, method2_15)\n",
    "print(pval)\n",
    "print(ttest)\n",
    "if pval<0.1:\n",
    "    print(\"reject null hypothesis\")\n",
    "else:\n",
    "    print(\"accept null hypothesis\")\n",
    "    \n",
    "ttest,pval = stats.ttest_rel(base1_10, method2_10)\n",
    "print(pval)\n",
    "print(ttest)\n",
    "if pval<0.1:\n",
    "    print(\"reject null hypothesis\")\n",
    "else:\n",
    "    print(\"accept null hypothesis\")\n",
    "    \n",
    "ttest,pval = stats.ttest_rel(base1_5, method2_5)\n",
    "print(pval)\n",
    "print(ttest)\n",
    "if pval<0.1:\n",
    "    print(\"reject null hypothesis\")\n",
    "else:\n",
    "    print(\"accept null hypothesis\")\n",
    "    \n",
    "ttest,pval = stats.ttest_rel(base1_0, method2_0)\n",
    "print(pval)\n",
    "print(ttest)\n",
    "if pval<0.1:\n",
    "    print(\"reject null hypothesis\")\n",
    "else:\n",
    "    print(\"accept null hypothesis\")"
   ]
  },
  {
   "cell_type": "code",
   "execution_count": null,
   "metadata": {},
   "outputs": [],
   "source": []
  }
 ],
 "metadata": {
  "kernelspec": {
   "display_name": "Python 3",
   "language": "python",
   "name": "python3"
  },
  "language_info": {
   "codemirror_mode": {
    "name": "ipython",
    "version": 3
   },
   "file_extension": ".py",
   "mimetype": "text/x-python",
   "name": "python",
   "nbconvert_exporter": "python",
   "pygments_lexer": "ipython3",
   "version": "3.7.6"
  }
 },
 "nbformat": 4,
 "nbformat_minor": 4
}
