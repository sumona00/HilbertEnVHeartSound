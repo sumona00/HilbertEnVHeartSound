{
 "cells": [
  {
   "cell_type": "code",
   "execution_count": 1,
   "metadata": {},
   "outputs": [],
   "source": [
    "from pathlib import Path\n",
    "import glob\n",
    "import numpy as np\n",
    "from scipy.io import loadmat\n",
    "from scipy.io import wavfile\n",
    "import os\n",
    "from python_speech_features import mfcc\n",
    "from python_speech_features import logfbank\n",
    "from numpy import asarray\n",
    "from numpy import savetxt\n",
    "import arff\n",
    "import pywt\n",
    "import pandas as pd\n",
    "from numpy import genfromtxt\n",
    "import os "
   ]
  },
  {
   "cell_type": "code",
   "execution_count": 2,
   "metadata": {},
   "outputs": [
    {
     "name": "stdout",
     "output_type": "stream",
     "text": [
      "[[    0     0     0 ... -1119 -1134 -1153]\n",
      " [    0     0     0 ...  -710  -729  -746]\n",
      " [    0     0     0 ... -2194 -2152 -2112]\n",
      " ...\n",
      " [    0     0     0 ...  2857  2276  1699]\n",
      " [    0     0     0 ... -6925 -7037 -7181]\n",
      " [    0     0     0 ...  -339  -345  -351]]\n"
     ]
    }
   ],
   "source": [
    "data_dir1 = Path('/home/sumona/DiseaseBased/AR/FullRecordingAR/')\n",
    "AR=[]\n",
    "for filename in glob.glob(os.path.join(data_dir1, '*.wav')):\n",
    "    samplerate, data = wavfile.read(filename)\n",
    "    AR.append(data)\n",
    "AR=np.asarray(AR)\n",
    "print(AR)\n",
    "#savetxt('AR_recording.csv', AR)"
   ]
  },
  {
   "cell_type": "code",
   "execution_count": 3,
   "metadata": {},
   "outputs": [
    {
     "name": "stdout",
     "output_type": "stream",
     "text": [
      "[[    0     0     0 ... -2217 -2305 -2398]\n",
      " [    0    -1    -3 ...   905   907   909]\n",
      " [    0     0    -1 ...   259   175    88]\n",
      " ...\n",
      " [    0     0     0 ...  -892  -636  -371]\n",
      " [    0     0     0 ...  6285  6248  6206]\n",
      " [    0     0     0 ...  -394  -617  -835]]\n"
     ]
    }
   ],
   "source": [
    "data_dir2 = Path('/home/sumona/DiseaseBased/AS/FullRecordingAS/')\n",
    "AS=[]\n",
    "for filename in glob.glob(os.path.join(data_dir2, '*.wav')):\n",
    "    samplerate, data = wavfile.read(filename)\n",
    "    AS.append(data)\n",
    "AS=np.asarray(AS)\n",
    "print(AS)  \n",
    "#savetxt('AS_recording.csv', AS)"
   ]
  },
  {
   "cell_type": "code",
   "execution_count": 4,
   "metadata": {},
   "outputs": [
    {
     "name": "stdout",
     "output_type": "stream",
     "text": [
      "[[    0     0     0 ...  6008  6167  6314]\n",
      " [    0     0     0 ...   441  -147  -765]\n",
      " [    0     0     0 ... -4354 -4593 -4834]\n",
      " ...\n",
      " [    0     0     0 ... -1468 -1485 -1504]\n",
      " [    0     0     0 ...  1030  1060  1084]\n",
      " [    0     0     0 ...  2198  2113  2032]]\n"
     ]
    }
   ],
   "source": [
    "data_dir3 = Path('/home/sumona/DiseaseBased/MR/FullRecordingMR/')\n",
    "MR=[]\n",
    "for filename in glob.glob(os.path.join(data_dir3, '*.wav')):\n",
    "    samplerate, data = wavfile.read(filename)\n",
    "    MR.append(data)\n",
    "MR=np.asarray(MR)\n",
    "print(MR)    \n",
    "#savetxt('MR_recording.csv', MR)"
   ]
  },
  {
   "cell_type": "code",
   "execution_count": 5,
   "metadata": {},
   "outputs": [
    {
     "name": "stdout",
     "output_type": "stream",
     "text": [
      "[[    0     0    -1 ...   -46   -23    15]\n",
      " [    0     0     0 ... -3622 -3627 -3631]\n",
      " [    0     0     0 ...  8249  8048  7806]\n",
      " ...\n",
      " [    0     0     0 ...    48    40    33]\n",
      " [    0     0     0 ... 10461 10972 11530]\n",
      " [    0     0     0 ...  1350  1507  1662]]\n"
     ]
    }
   ],
   "source": [
    "data_dir4 = Path('/home/sumona/DiseaseBased/MS/FullRecordingMS/')\n",
    "MS=[]\n",
    "for filename in glob.glob(os.path.join(data_dir4, '*.wav')):\n",
    "    samplerate, data = wavfile.read(filename)\n",
    "    MS.append(data)\n",
    "     \n",
    "MS=np.asarray(MS)\n",
    "print(MS) \n",
    "#savetxt('MS_recording.csv', MS)"
   ]
  },
  {
   "cell_type": "code",
   "execution_count": 16,
   "metadata": {},
   "outputs": [
    {
     "name": "stdout",
     "output_type": "stream",
     "text": [
      "(300,)\n",
      "(300, 384)\n"
     ]
    }
   ],
   "source": [
    "##Opensmile feature extraction\n",
    "f_mat=np.empty([1,384])\n",
    "l_mat=np.array([])\n",
    "for i in range(1,33):\n",
    " loc='/home/sumona/DiseaseBased/AR/FullRecordingAR/{}.wav.arff'.format(i)\n",
    " dataset=arff.load(open(loc, 'r'))\n",
    " data=np.array(dataset['data'])\n",
    " attributes = dataset['attributes']\n",
    " a=data\n",
    " a=np.delete(a,0,1)\n",
    " a=np.delete(a,384,1)\n",
    " f_mat=np.append(f_mat,a,axis=0)\n",
    " l_mat=np.append(l_mat,[1])\n",
    "f_mat=np.delete(f_mat,0,0)\n",
    "l_mat=np.append(l_mat,[],0)\n",
    "\n",
    "\n",
    "for i in range(1,81):\n",
    " loc='/home/sumona/DiseaseBased/MR/FullRecordingMR/{}.wav.arff'.format(i)\n",
    " dataset=arff.load(open(loc, 'r'))\n",
    " data=np.array(dataset['data'])\n",
    " attributes = dataset['attributes']\n",
    " a=data\n",
    " a=np.delete(a,0,1)\n",
    " a=np.delete(a,384,1)\n",
    " f_mat=np.append(f_mat,a,axis=0)\n",
    " l_mat=np.append(l_mat,[2])\n",
    "\n",
    "for i in range(1,81):\n",
    " loc='/home/sumona/DiseaseBased/AS/FullRecordingAS/{}.wav.arff'.format(i)\n",
    " dataset=arff.load(open(loc, 'r'))\n",
    " data=np.array(dataset['data'])\n",
    " attributes = dataset['attributes']\n",
    " a=data\n",
    " a=np.delete(a,0,1)\n",
    " a=np.delete(a,384,1)\n",
    " f_mat=np.append(f_mat,a,axis=0)\n",
    " l_mat=np.append(l_mat,[3])\n",
    "\n",
    "for i in range(1,109):\n",
    " loc='/home/sumona/DiseaseBased/MS/FullRecordingMS/{}.arff'.format(i)\n",
    " dataset=arff.load(open(loc, 'r'))\n",
    " data=np.array(dataset['data'])\n",
    " attributes = dataset['attributes']\n",
    " a=data\n",
    " a=np.delete(a,0,1)\n",
    " a=np.delete(a,384,1)\n",
    " f_mat=np.append(f_mat,a,axis=0)\n",
    " l_mat=np.append(l_mat,[4])\n",
    "\n",
    "\n",
    "print(l_mat.shape)\n",
    "print(f_mat.shape)"
   ]
  },
  {
   "cell_type": "code",
   "execution_count": 7,
   "metadata": {},
   "outputs": [],
   "source": [
    "##DWT Features\n",
    "CA=np.empty([1,40000])\n",
    "CD=np.empty([1,40000])\n",
    "cA1, cD1 = pywt.dwt(AR, 'db1')\n",
    "cA2, cD2 = pywt.dwt(MR, 'db1')\n",
    "cA3, cD3 = pywt.dwt(AS, 'db1')\n",
    "cA4, cD4 = pywt.dwt(MS, 'db1')\n",
    "CA=np.append(CA,cA1,axis=0)\n",
    "CA=np.delete(CA,0,0)\n",
    "CA=np.append(CA,cA2,axis=0)\n",
    "CA=np.append(CA,cA3,axis=0)\n",
    "CA=np.append(CA,cA4,axis=0)\n",
    "CD=np.append(CD,cD1,axis=0)\n",
    "CD=np.delete(CD,0,0)\n",
    "CD=np.append(CD,cD2,axis=0)\n",
    "CD=np.append(CD,cD3,axis=0)\n",
    "CD=np.append(CD,cD4,axis=0)\n"
   ]
  },
  {
   "cell_type": "code",
   "execution_count": 8,
   "metadata": {},
   "outputs": [],
   "source": [
    "p=np.concatenate((CA,CD),axis=1)\n",
    "features=np.concatenate((f_mat,p), axis=1)"
   ]
  },
  {
   "cell_type": "code",
   "execution_count": 9,
   "metadata": {},
   "outputs": [],
   "source": [
    "##Time features\n",
    "\n",
    "def data(path):\n",
    " my_data = genfromtxt(path, delimiter=',')\n",
    " return(my_data)\n",
    "\n",
    "def tfeature(path):\n",
    "    data1=data(path)\n",
    "    return(data1)"
   ]
  },
  {
   "cell_type": "code",
   "execution_count": 10,
   "metadata": {},
   "outputs": [],
   "source": [
    "path1='/home/sumona/DiseaseBased/'\n",
    "path1=os.path.join(path1,'Time_Features_AR_unsegmented.csv')\n",
    "t1=tfeature(path1)\n",
    "t1=np.delete(t1,0,0)\n",
    "path2='/home/sumona/DiseaseBased/'\n",
    "path2=os.path.join(path2,'Time_Features_MR_unsegmented.csv')\n",
    "t2=tfeature(path2)\n",
    "t2=np.delete(t2,0,0)\n",
    "path3='/home/sumona/DiseaseBased/'\n",
    "path3=os.path.join(path3,'Time_Features_AS_unsegmented.csv')\n",
    "t3=tfeature(path3)\n",
    "t3=np.delete(t3,0,0)\n",
    "path4='/home/sumona/DiseaseBased/'\n",
    "path4=os.path.join(path4,'Time_Features_MS_unsegmented.csv')\n",
    "t4=tfeature(path4)\n",
    "t4=np.delete(t4,0,0)"
   ]
  },
  {
   "cell_type": "code",
   "execution_count": 11,
   "metadata": {},
   "outputs": [],
   "source": [
    "q=np.concatenate((t1,t2),axis=0)\n",
    "w=np.concatenate((q,t3),axis=0)\n",
    "timefeatures=np.concatenate((w,t4),axis=0)"
   ]
  },
  {
   "cell_type": "code",
   "execution_count": 12,
   "metadata": {},
   "outputs": [],
   "source": [
    "features=np.concatenate((features,timefeatures), axis=1)"
   ]
  },
  {
   "cell_type": "code",
   "execution_count": 13,
   "metadata": {},
   "outputs": [],
   "source": [
    "features=pd.DataFrame(features)"
   ]
  },
  {
   "cell_type": "code",
   "execution_count": 14,
   "metadata": {},
   "outputs": [],
   "source": [
    "savetxt('features_recording_dwt_mfcc_time.csv', features)"
   ]
  },
  {
   "cell_type": "code",
   "execution_count": 15,
   "metadata": {},
   "outputs": [
    {
     "name": "stdout",
     "output_type": "stream",
     "text": [
      "[1. 1. 1. 1. 1. 1. 1. 1. 1. 1. 1. 1. 1. 1. 1. 1. 1. 1. 1. 1. 1. 1. 1. 1.\n",
      " 1. 1. 1. 1. 1. 1. 1. 1. 3. 3. 3. 3. 3. 3. 3. 3. 3. 3. 3. 3. 3. 3. 3. 3.\n",
      " 3. 3. 3. 3. 3. 3. 3. 3. 3. 3. 3. 3. 3. 3. 3. 3. 3. 3. 3. 3. 3. 3. 3. 3.\n",
      " 3. 3. 3. 3. 3. 3. 3. 3. 3. 3. 3. 3. 3. 3. 3. 3. 3. 3. 3. 3. 3. 3. 3. 3.\n",
      " 3. 3. 3. 3. 3. 3. 3. 3. 3. 3. 3. 3. 3. 3. 3. 3. 2. 2. 2. 2. 2. 2. 2. 2.\n",
      " 2. 2. 2. 2. 2. 2. 2. 2. 2. 2. 2. 2. 2. 2. 2. 2. 2. 2. 2. 2. 2. 2. 2. 2.\n",
      " 2. 2. 2. 2. 2. 2. 2. 2. 2. 2. 2. 2. 2. 2. 2. 2. 2. 2. 2. 2. 2. 2. 2. 2.\n",
      " 2. 2. 2. 2. 2. 2. 2. 2. 2. 2. 2. 2. 2. 2. 2. 2. 2. 2. 2. 2. 2. 2. 2. 2.\n",
      " 4. 4. 4. 4. 4. 4. 4. 4. 4. 4. 4. 4. 4. 4. 4. 4. 4. 4. 4. 4. 4. 4. 4. 4.\n",
      " 4. 4. 4. 4. 4. 4. 4. 4. 4. 4. 4. 4. 4. 4. 4. 4. 4. 4. 4. 4. 4. 4. 4. 4.\n",
      " 4. 4. 4. 4. 4. 4. 4. 4. 4. 4. 4. 4. 4. 4. 4. 4. 4. 4. 4. 4. 4. 4. 4. 4.\n",
      " 4. 4. 4. 4. 4. 4. 4. 4. 4. 4. 4. 4. 4. 4. 4. 4. 4. 4. 4. 4. 4. 4. 4. 4.\n",
      " 4. 4. 4. 4. 4. 4. 4. 4. 4. 4. 4. 4.]\n"
     ]
    }
   ],
   "source": [
    "print(l_mat)"
   ]
  }
 ],
 "metadata": {
  "kernelspec": {
   "display_name": "Python 3",
   "language": "python",
   "name": "python3"
  },
  "language_info": {
   "codemirror_mode": {
    "name": "ipython",
    "version": 3
   },
   "file_extension": ".py",
   "mimetype": "text/x-python",
   "name": "python",
   "nbconvert_exporter": "python",
   "pygments_lexer": "ipython3",
   "version": "3.7.6"
  }
 },
 "nbformat": 4,
 "nbformat_minor": 4
}
